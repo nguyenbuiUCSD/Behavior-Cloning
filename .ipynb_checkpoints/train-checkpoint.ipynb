{
 "cells": [
  {
   "cell_type": "code",
   "execution_count": 8,
   "metadata": {
    "scrolled": false
   },
   "outputs": [],
   "source": [
    "import csv\n",
    "import numpy as np\n",
    "import matplotlib.pyplot as plt\n",
    "from PIL import Image\n",
    "from sklearn.model_selection import train_test_split\n",
    "%matplotlib inline\n",
    "\n",
    "# File name\n",
    "driving_log = \"../training-data/driving_log.csv\"\n",
    "\n",
    "# Read data info\n",
    "rows = []\n",
    "with open(driving_log) as file:\n",
    "    reader = csv.reader(file)\n",
    "    for row in reader:\n",
    "        rows.append(row)\n",
    "train_data, valid_data = train_test_split(rows, test_size=0.2)"
   ]
  },
  {
   "cell_type": "code",
   "execution_count": 9,
   "metadata": {},
   "outputs": [],
   "source": [
    "# Define genorator for training\n",
    "from random import shuffle\n",
    "def generator(data, batch_size = 128):\n",
    "    data_size = len(data)\n",
    "    # Loop for ever in generator loop\n",
    "    while 1:\n",
    "        shuffle(data)\n",
    "        for offset in range(0, data_size, batch_size):\n",
    "            batch = data[offset:offset+batch_size]\n",
    "            images = []\n",
    "            mesurements = []\n",
    "            for x in batch:\n",
    "                # This is a work around because train data was collected on both Windows and Linux\n",
    "                # Hence path file contain different deliminator ('/' and '\\')\n",
    "                center_image_file = x[0].split('center_')[-1]\n",
    "                img = Image.open(\"../training-data/IMG/center_\"+center_image_file)\n",
    "                images.append(np.array(img))\n",
    "                img.close()\n",
    "                mesurements.append(float(x[3]))\n",
    "                \n",
    "            # Convert into np array\n",
    "            x_train = np.array(images)\n",
    "            y_train = np.array(mesurements)\n",
    "            \n",
    "            yield x_train, y_train"
   ]
  },
  {
   "cell_type": "code",
   "execution_count": 10,
   "metadata": {},
   "outputs": [],
   "source": [
    "# Set batch size\n",
    "batch_size=128\n",
    "\n",
    "# generate train data\n",
    "train_generator = generator(train_data, batch_size=batch_size)\n",
    "validation_generator = generator(valid_data, batch_size=batch_size)"
   ]
  },
  {
   "cell_type": "code",
   "execution_count": null,
   "metadata": {},
   "outputs": [
    {
     "name": "stdout",
     "output_type": "stream",
     "text": [
      "Epoch 1/100\n",
      "197/334 [================>.............] - ETA: 19s - loss: 0.0194"
     ]
    }
   ],
   "source": [
    "from keras.models import Sequential\n",
    "from keras.layers import Lambda, Flatten, Dense, Cropping2D, Conv2D\n",
    "from math import ceil\n",
    "\n",
    "model = Sequential()\n",
    "model.add(Lambda(lambda x: x/128.0 - 1.0, input_shape=(160,320,3)))\n",
    "# If tuple of 2 tuples of 2 ints: interpreted as ((top_crop, bottom_crop), (left_crop, right_crop))\n",
    "model.add(Cropping2D(cropping=((70,25),(0,0))))\n",
    "model.add(Conv2D(24, (5, 5), activation=\"relu\", strides=(2, 2)))\n",
    "model.add(Conv2D(36, (5, 5), activation=\"relu\", strides=(2, 2)))\n",
    "model.add(Conv2D(48, (5, 5), activation=\"relu\", strides=(2, 2)))\n",
    "model.add(Conv2D(64, (3, 3), activation=\"relu\"))\n",
    "model.add(Conv2D(64, (3, 3), activation=\"relu\"))\n",
    "model.add(Flatten())\n",
    "model.add(Dense(100))\n",
    "model.add(Dense(50))\n",
    "model.add(Dense(10))\n",
    "model.add(Dense(1))\n",
    "\n",
    "model.compile(loss=\"mse\", optimizer=\"adam\")\n",
    "model.fit_generator(train_generator, steps_per_epoch=ceil(len(train_data)/batch_size), validation_data=validation_generator,validation_steps=ceil(len(valid_data)/batch_size), shuffle=True, epochs=100, verbose=1)\n",
    "\n",
    "model.save(\"model-1-0-2.h5\")"
   ]
  },
  {
   "cell_type": "code",
   "execution_count": 15,
   "metadata": {},
   "outputs": [
    {
     "name": "stdout",
     "output_type": "stream",
     "text": [
      "7.169061427703127e-05\n"
     ]
    }
   ],
   "source": [
    "from keras.models import load_model\n",
    "model_load = load_model(\"model.h5\")\n",
    "\n",
    "images = []\n",
    "# Use '/' if data collection ran on linux \n",
    "center_image_file = row[0].split('\\\\')[-1]\n",
    "img = Image.open(\"../training-data/IMG/\"+center_image_file)\n",
    "images.append(np.array(img))\n",
    "img.close()\n",
    "\n",
    "steering_angle = float(model_load.predict(images[0][None, :, :, :], batch_size=1))\n",
    "print (steering_angle)"
   ]
  }
 ],
 "metadata": {
  "kernelspec": {
   "display_name": "Python 3",
   "language": "python",
   "name": "python3"
  },
  "language_info": {
   "codemirror_mode": {
    "name": "ipython",
    "version": 3
   },
   "file_extension": ".py",
   "mimetype": "text/x-python",
   "name": "python",
   "nbconvert_exporter": "python",
   "pygments_lexer": "ipython3",
   "version": "3.7.4"
  }
 },
 "nbformat": 4,
 "nbformat_minor": 2
}
