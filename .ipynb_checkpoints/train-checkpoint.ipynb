{
 "cells": [
  {
   "cell_type": "code",
   "execution_count": null,
   "metadata": {
    "scrolled": false
   },
   "outputs": [
    {
     "name": "stdout",
     "output_type": "stream",
     "text": [
      "10 % done\n",
      "20 % done\n",
      "30 % done\n",
      "40 % done\n",
      "50 % done\n",
      "60 % done\n",
      "70 % done\n",
      "80 % done\n",
      "90 % done\n"
     ]
    }
   ],
   "source": [
    "import csv\n",
    "import numpy as np\n",
    "import matplotlib.pyplot as plt\n",
    "from PIL import Image\n",
    "%matplotlib inline\n",
    "\n",
    "# File name\n",
    "driving_log = \"../training-data/driving_log.csv\"\n",
    "\n",
    "# Read data info\n",
    "rows = []\n",
    "with open(driving_log) as file:\n",
    "    reader = csv.reader(file)\n",
    "    for row in reader:\n",
    "        rows.append(row)\n",
    "        \n",
    "images = []\n",
    "mesurements = []\n",
    "debug_percent = len(rows)/100\n",
    "debug_step = 10\n",
    "debug_count = 0\n",
    "\n",
    "for row in rows:\n",
    "    # Use '/' if data collection ran on linux \n",
    "    center_image_file = row[0].split('\\\\')[-1]\n",
    "    img = Image.open(\"../training-data/IMG/\"+center_image_file)\n",
    "    images.append(np.array(img))\n",
    "    img.close()\n",
    "    mesurements.append(float(row[3]))\n",
    "    \n",
    "    if (debug_count > debug_percent*debug_step):\n",
    "        print (debug_step, \"% done\")\n",
    "        debug_step+=10\n",
    "    debug_count+=1\n",
    "\n",
    "# Convert into np array\n",
    "x_train = np.array(images)\n",
    "y_train = np.array(mesurements)   \n",
    "print (np.shape(x_train))\n",
    "\n",
    "# Plot example image\n",
    "plt.figure()\n",
    "plt.imshow(images[0])"
   ]
  },
  {
   "cell_type": "code",
   "execution_count": null,
   "metadata": {},
   "outputs": [],
   "source": [
    "from keras.models import Sequential\n",
    "from keras.layers import Flatten, Dense\n",
    "\n",
    "model = Sequential()\n",
    "model.add(Flatten(input_shape=(160,320,3)))\n",
    "model.add(Dense(1))\n",
    "\n",
    "model.compile(loss=\"mse\", optimizer=\"adam\")\n",
    "model.fit(x_train, y_train, validation_split = 0.2, shuffle=True, nb_epoch=5)\n",
    "\n",
    "model.save(\"model.h5\")"
   ]
  },
  {
   "cell_type": "code",
   "execution_count": null,
   "metadata": {},
   "outputs": [],
   "source": []
  }
 ],
 "metadata": {
  "kernelspec": {
   "display_name": "Python 3",
   "language": "python",
   "name": "python3"
  },
  "language_info": {
   "codemirror_mode": {
    "name": "ipython",
    "version": 3
   },
   "file_extension": ".py",
   "mimetype": "text/x-python",
   "name": "python",
   "nbconvert_exporter": "python",
   "pygments_lexer": "ipython3",
   "version": "3.7.3"
  }
 },
 "nbformat": 4,
 "nbformat_minor": 2
}
